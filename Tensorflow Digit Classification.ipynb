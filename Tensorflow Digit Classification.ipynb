{
 "cells": [
  {
   "cell_type": "markdown",
   "metadata": {},
   "source": [
    "# Digit Classification Tutorial\n",
    "Neural Netorks using Tensorflow 2.0  \n",
    "Patrick Old"
   ]
  },
  {
   "cell_type": "code",
   "execution_count": 4,
   "metadata": {},
   "outputs": [],
   "source": [
    "import tensorflow as tf\n",
    "import matplotlib.pyplot as plt\n",
    "from tensorflow.keras.models import Sequential\n",
    "from tensorflow.keras.layers import Dense, Conv2D, Dropout, Flatten, MaxPooling2D"
   ]
  },
  {
   "cell_type": "code",
   "execution_count": 5,
   "metadata": {},
   "outputs": [],
   "source": [
    "(x_train, y_train), (x_test, y_test) = tf.keras.datasets.mnist.load_data()"
   ]
  },
  {
   "cell_type": "markdown",
   "metadata": {},
   "source": [
    "### Create Validation Dataset"
   ]
  },
  {
   "cell_type": "code",
   "execution_count": 6,
   "metadata": {},
   "outputs": [],
   "source": [
    "x_val = x_train[:10000]\n",
    "y_val = y_train[:10000]\n",
    "x_train = x_train[10000:]\n",
    "y_train = y_train[10000:]"
   ]
  },
  {
   "cell_type": "markdown",
   "metadata": {},
   "source": [
    "### Show Image"
   ]
  },
  {
   "cell_type": "code",
   "execution_count": 7,
   "metadata": {},
   "outputs": [
    {
     "data": {
      "text/plain": [
       "<matplotlib.image.AxesImage at 0x13bdea4f0>"
      ]
     },
     "execution_count": 7,
     "metadata": {},
     "output_type": "execute_result"
    },
    {
     "data": {
      "image/png": "[encoded data removed]",
      "text/plain": [
       "<Figure size 432x288 with 1 Axes>"
      ]
     },
     "metadata": {
      "needs_background": "light"
     },
     "output_type": "display_data"
    }
   ],
   "source": [
    "image_index = 0 # You may select anything up to 60,000\n",
    "#print(img_names[y_train[image_index][0]]) # Print the label\n",
    "plt.imshow(x_train[image_index], cmap='Greys') # Show the image"
   ]
  },
  {
   "cell_type": "markdown",
   "metadata": {},
   "source": [
    "### Data Cleansing\n",
    "Scaling all values to be between 0-1 for gradient descent to work properly"
   ]
  },
  {
   "cell_type": "code",
   "execution_count": 8,
   "metadata": {},
   "outputs": [],
   "source": [
    "x_val = (x_val.astype('float32') / 255.0)\n",
    "x_train = (x_train.astype('float32') / 255.0)\n",
    "x_test = (x_test.astype('float32') / 255.0)"
   ]
  },
  {
   "cell_type": "code",
   "execution_count": 9,
   "metadata": {},
   "outputs": [
    {
     "data": {
      "text/plain": [
       "(50000, 28, 28)"
      ]
     },
     "execution_count": 9,
     "metadata": {},
     "output_type": "execute_result"
    }
   ],
   "source": [
    "x_train.shape"
   ]
  },
  {
   "cell_type": "markdown",
   "metadata": {},
   "source": [
    "### Create Neural Network\n",
    "Create an arbitrary sequential neural network"
   ]
  },
  {
   "cell_type": "code",
   "execution_count": 11,
   "metadata": {},
   "outputs": [],
   "source": [
    "model = Sequential([\n",
    "    Flatten(input_shape=[28,28]),\n",
    "    Dense(300, activation='relu'),\n",
    "    Dense(300, activation='relu'),\n",
    "    Dense(300, activation='tanh'),\n",
    "    Dense(200, activation='tanh'),\n",
    "    Dense(200, activation='tanh'),\n",
    "    Dense(200, activation='tanh'),\n",
    "    Dense(100, activation='relu'),\n",
    "    Dense(50, activation='relu'),\n",
    "    Dense(25, activation='relu'),\n",
    "    Dense(10, activation='softmax') # Use softmax for output for classification of > 2 items\n",
    "])"
   ]
  },
  {
   "cell_type": "markdown",
   "metadata": {},
   "source": [
    "### View the Neural Network"
   ]
  },
  {
   "cell_type": "code",
   "execution_count": 12,
   "metadata": {},
   "outputs": [
    {
     "name": "stdout",
     "output_type": "stream",
     "text": [
      "Model: \"sequential_1\"\n",
      "_________________________________________________________________\n",
      "Layer (type)                 Output Shape              Param #   \n",
      "=================================================================\n",
      "flatten_1 (Flatten)          (None, 784)               0         \n",
      "_________________________________________________________________\n",
      "dense_10 (Dense)             (None, 300)               235500    \n",
      "_________________________________________________________________\n",
      "dense_11 (Dense)             (None, 300)               90300     \n",
      "_________________________________________________________________\n",
      "dense_12 (Dense)             (None, 300)               90300     \n",
      "_________________________________________________________________\n",
      "dense_13 (Dense)             (None, 200)               60200     \n",
      "_________________________________________________________________\n",
      "dense_14 (Dense)             (None, 200)               40200     \n",
      "_________________________________________________________________\n",
      "dense_15 (Dense)             (None, 200)               40200     \n",
      "_________________________________________________________________\n",
      "dense_16 (Dense)             (None, 100)               20100     \n",
      "_________________________________________________________________\n",
      "dense_17 (Dense)             (None, 50)                5050      \n",
      "_________________________________________________________________\n",
      "dense_18 (Dense)             (None, 25)                1275      \n",
      "_________________________________________________________________\n",
      "dense_19 (Dense)             (None, 10)                260       \n",
      "=================================================================\n",
      "Total params: 583,385\n",
      "Trainable params: 583,385\n",
      "Non-trainable params: 0\n",
      "_________________________________________________________________\n"
     ]
    }
   ],
   "source": [
    "model.summary()"
   ]
  },
  {
   "cell_type": "code",
   "execution_count": 13,
   "metadata": {},
   "outputs": [],
   "source": [
    "model.compile(loss=\"sparse_categorical_crossentropy\",\n",
    "             optimizer=\"sgd\",\n",
    "             metrics=['accuracy'])"
   ]
  },
  {
   "cell_type": "code",
   "execution_count": 14,
   "metadata": {},
   "outputs": [
    {
     "name": "stdout",
     "output_type": "stream",
     "text": [
      "Epoch 1/30\n",
      "1563/1563 [==============================] - 6s 4ms/step - loss: 0.7454 - accuracy: 0.7686 - val_loss: 0.2491 - val_accuracy: 0.9254\n",
      "Epoch 2/30\n",
      "1563/1563 [==============================] - 6s 4ms/step - loss: 0.1897 - accuracy: 0.9428 - val_loss: 0.1617 - val_accuracy: 0.9517\n",
      "Epoch 3/30\n",
      "1563/1563 [==============================] - 6s 4ms/step - loss: 0.1264 - accuracy: 0.9622 - val_loss: 0.1335 - val_accuracy: 0.9622\n",
      "Epoch 4/30\n",
      "1563/1563 [==============================] - 6s 4ms/step - loss: 0.0935 - accuracy: 0.9726 - val_loss: 0.1570 - val_accuracy: 0.9562\n",
      "Epoch 5/30\n",
      "1563/1563 [==============================] - 6s 4ms/step - loss: 0.0722 - accuracy: 0.9781 - val_loss: 0.1074 - val_accuracy: 0.9684\n",
      "Epoch 6/30\n",
      "1563/1563 [==============================] - 6s 4ms/step - loss: 0.0555 - accuracy: 0.9835 - val_loss: 0.1020 - val_accuracy: 0.9701\n",
      "Epoch 7/30\n",
      "1563/1563 [==============================] - 6s 4ms/step - loss: 0.0434 - accuracy: 0.9873 - val_loss: 0.1037 - val_accuracy: 0.9714\n",
      "Epoch 8/30\n",
      "1563/1563 [==============================] - 6s 4ms/step - loss: 0.0322 - accuracy: 0.9910 - val_loss: 0.1512 - val_accuracy: 0.9591\n",
      "Epoch 9/30\n",
      "1563/1563 [==============================] - 6s 4ms/step - loss: 0.0260 - accuracy: 0.9924 - val_loss: 0.0976 - val_accuracy: 0.9718\n",
      "Epoch 10/30\n",
      "1563/1563 [==============================] - 6s 4ms/step - loss: 0.0189 - accuracy: 0.9947 - val_loss: 0.1027 - val_accuracy: 0.9729\n",
      "Epoch 11/30\n",
      "1563/1563 [==============================] - 6s 4ms/step - loss: 0.0138 - accuracy: 0.9966 - val_loss: 0.1006 - val_accuracy: 0.9751\n",
      "Epoch 12/30\n",
      "1563/1563 [==============================] - 6s 4ms/step - loss: 0.0100 - accuracy: 0.9973 - val_loss: 0.1007 - val_accuracy: 0.9748\n",
      "Epoch 13/30\n",
      "1563/1563 [==============================] - 6s 4ms/step - loss: 0.0053 - accuracy: 0.9990 - val_loss: 0.1008 - val_accuracy: 0.9761\n",
      "Epoch 14/30\n",
      "1563/1563 [==============================] - 6s 4ms/step - loss: 0.0030 - accuracy: 0.9996 - val_loss: 0.1027 - val_accuracy: 0.9768\n",
      "Epoch 15/30\n",
      "1563/1563 [==============================] - 6s 4ms/step - loss: 0.0020 - accuracy: 0.9997 - val_loss: 0.1030 - val_accuracy: 0.9769\n",
      "Epoch 16/30\n",
      "1563/1563 [==============================] - 6s 4ms/step - loss: 0.0012 - accuracy: 0.9999 - val_loss: 0.1055 - val_accuracy: 0.9764\n",
      "Epoch 17/30\n",
      "1563/1563 [==============================] - 6s 4ms/step - loss: 9.5345e-04 - accuracy: 1.0000 - val_loss: 0.1064 - val_accuracy: 0.9766\n",
      "Epoch 18/30\n",
      "1563/1563 [==============================] - 6s 4ms/step - loss: 7.6983e-04 - accuracy: 1.0000 - val_loss: 0.1083 - val_accuracy: 0.9766\n",
      "Epoch 19/30\n",
      "1563/1563 [==============================] - 6s 4ms/step - loss: 6.6097e-04 - accuracy: 1.0000 - val_loss: 0.1094 - val_accuracy: 0.9764\n",
      "Epoch 20/30\n",
      "1563/1563 [==============================] - 6s 4ms/step - loss: 5.7425e-04 - accuracy: 1.0000 - val_loss: 0.1115 - val_accuracy: 0.9760\n",
      "Epoch 21/30\n",
      "1563/1563 [==============================] - 6s 4ms/step - loss: 5.0204e-04 - accuracy: 1.0000 - val_loss: 0.1116 - val_accuracy: 0.9761\n",
      "Epoch 22/30\n",
      "1563/1563 [==============================] - 6s 4ms/step - loss: 4.3976e-04 - accuracy: 1.0000 - val_loss: 0.1137 - val_accuracy: 0.9764\n",
      "Epoch 23/30\n",
      "1563/1563 [==============================] - 6s 4ms/step - loss: 4.0586e-04 - accuracy: 1.0000 - val_loss: 0.1144 - val_accuracy: 0.9764\n",
      "Epoch 24/30\n",
      "1563/1563 [==============================] - 6s 4ms/step - loss: 3.6751e-04 - accuracy: 1.0000 - val_loss: 0.1152 - val_accuracy: 0.9760\n",
      "Epoch 25/30\n",
      "1563/1563 [==============================] - 6s 4ms/step - loss: 3.4231e-04 - accuracy: 1.0000 - val_loss: 0.1151 - val_accuracy: 0.9769\n",
      "Epoch 26/30\n",
      "1563/1563 [==============================] - 6s 4ms/step - loss: 3.0676e-04 - accuracy: 1.0000 - val_loss: 0.1159 - val_accuracy: 0.9762\n",
      "Epoch 27/30\n",
      "1563/1563 [==============================] - 6s 4ms/step - loss: 2.8231e-04 - accuracy: 1.0000 - val_loss: 0.1173 - val_accuracy: 0.9766\n",
      "Epoch 28/30\n",
      "1563/1563 [==============================] - 6s 4ms/step - loss: 2.6365e-04 - accuracy: 1.0000 - val_loss: 0.1180 - val_accuracy: 0.9766\n",
      "Epoch 29/30\n",
      "1563/1563 [==============================] - 6s 4ms/step - loss: 2.4480e-04 - accuracy: 1.0000 - val_loss: 0.1185 - val_accuracy: 0.9766\n",
      "Epoch 30/30\n",
      "1563/1563 [==============================] - 7s 5ms/step - loss: 2.2997e-04 - accuracy: 1.0000 - val_loss: 0.1193 - val_accuracy: 0.9766\n"
     ]
    },
    {
     "data": {
      "text/plain": [
       "<tensorflow.python.keras.callbacks.History at 0x1074484f0>"
      ]
     },
     "execution_count": 14,
     "metadata": {},
     "output_type": "execute_result"
    }
   ],
   "source": [
    "model.fit(x_train, y_train, epochs=30, validation_data=(x_val, y_val))"
   ]
  },
  {
   "cell_type": "markdown",
   "metadata": {},
   "source": [
    "### Check Model Accuracy\n",
    "97.85% accuracy is achieved on the test dataset. Not bad with so little code."
   ]
  },
  {
   "cell_type": "code",
   "execution_count": 15,
   "metadata": {},
   "outputs": [
    {
     "name": "stdout",
     "output_type": "stream",
     "text": [
      "313/313 [==============================] - 0s 2ms/step - loss: 0.1155 - accuracy: 0.9785\n"
     ]
    },
    {
     "data": {
      "text/plain": [
       "[0.11545068025588989, 0.9785000085830688]"
      ]
     },
     "execution_count": 15,
     "metadata": {},
     "output_type": "execute_result"
    }
   ],
   "source": [
    "model.evaluate(x_test, y_test)"
   ]
  }
 ],
 "metadata": {
  "kernelspec": {
   "display_name": "Python 3",
   "language": "python",
   "name": "python3"
  },
  "language_info": {
   "codemirror_mode": {
    "name": "ipython",
    "version": 3
   },
   "file_extension": ".py",
   "mimetype": "text/x-python",
   "name": "python",
   "nbconvert_exporter": "python",
   "pygments_lexer": "ipython3",
   "version": "3.8.3"
  }
 },
 "nbformat": 4,
 "nbformat_minor": 4
}
