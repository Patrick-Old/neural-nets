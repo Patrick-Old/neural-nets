{
 "cells": [
  {
   "cell_type": "markdown",
   "metadata": {},
   "source": [
    "# Digit Classification Tutorial\n",
    "Neural Netorks using Tensorflow 2.0  \n",
    "Patrick Old"
   ]
  },
  {
   "cell_type": "code",
   "execution_count": 1,
   "metadata": {},
   "outputs": [],
   "source": [
    "import tensorflow as tf\n",
    "import matplotlib.pyplot as plt\n",
    "from tensorflow.keras.models import Sequential\n",
    "from tensorflow.keras.layers import Dense, Conv2D, Dropout, Flatten, MaxPooling2D\n",
    "import tensorflow.keras.backend as K\n",
    "from tensorflow.keras import optimizers\n",
    "from sklearn.model_selection import train_test_split\n",
    "import numpy as np\n",
    "import pandas as pd"
   ]
  },
  {
   "cell_type": "code",
   "execution_count": 2,
   "metadata": {},
   "outputs": [],
   "source": [
    "# set some globals, which are used across the remaining functions\n",
    "IMAGE_SHAPE = (28,28,1)\n",
    "NUM_CLASSES = 10\n",
    "# training parameters\n",
    "NUM_EPOCHS = 20\n",
    "BATCH_SIZE = 128"
   ]
  },
  {
   "cell_type": "code",
   "execution_count": 3,
   "metadata": {},
   "outputs": [],
   "source": [
    "train_df = pd.read_csv(\"train.csv\")\n",
    "test_df = pd.read_csv(\"test.csv\")\n",
    "\n",
    "y_train = train_df['label']\n",
    "X_train = train_df.drop('label', axis=1)\n",
    "X_test = test_df"
   ]
  },
  {
   "cell_type": "code",
   "execution_count": 4,
   "metadata": {},
   "outputs": [],
   "source": [
    "X_train = X_train.to_numpy().reshape(42000, 28, 28)\n",
    "X_test = X_test.to_numpy().reshape(28000, 28, 28)"
   ]
  },
  {
   "cell_type": "code",
   "execution_count": 5,
   "metadata": {},
   "outputs": [],
   "source": [
    "y_train = y_train.to_numpy()"
   ]
  },
  {
   "cell_type": "markdown",
   "metadata": {},
   "source": [
    "### Show Image"
   ]
  },
  {
   "cell_type": "code",
   "execution_count": 6,
   "metadata": {},
   "outputs": [
    {
     "data": {
      "text/plain": [
       "<matplotlib.image.AxesImage at 0x12d034c10>"
      ]
     },
     "execution_count": 6,
     "metadata": {},
     "output_type": "execute_result"
    },
    {
     "data": {
      "image/png": "[encoded data removed]",
      "text/plain": [
       "<Figure size 432x288 with 1 Axes>"
      ]
     },
     "metadata": {
      "needs_background": "light"
     },
     "output_type": "display_data"
    }
   ],
   "source": [
    "image_index = 1 # You may select anything up to 60,000\n",
    "#print(img_names[y_train[image_index][0]]) # Print the label\n",
    "plt.imshow(X_train[image_index], cmap='Greys') # Show the image"
   ]
  },
  {
   "cell_type": "markdown",
   "metadata": {},
   "source": [
    "### Data Cleansing\n",
    "Scaling all values to be between 0-1 for gradient descent to work properly"
   ]
  },
  {
   "cell_type": "code",
   "execution_count": 7,
   "metadata": {},
   "outputs": [],
   "source": [
    "X_train = (X_train.astype('float32') / 255.0)\n",
    "X_test = (X_test.astype('float32') / 255.0)"
   ]
  },
  {
   "cell_type": "markdown",
   "metadata": {},
   "source": [
    "### Create Neural Network\n",
    "Create an arbitrary sequential neural network that is sequential and fully connected."
   ]
  },
  {
   "cell_type": "code",
   "execution_count": 8,
   "metadata": {},
   "outputs": [],
   "source": [
    "model = Sequential()\n",
    "\n",
    "model.add(Flatten(input_shape=[28,28])) # Change from 2-D to 1-D (28*28 neurons in input layer)\n",
    "\n",
    "# Create Pyramid-like sequence for neural net\n",
    "model.add(Dense(300, activation=\"relu\"))\n",
    "model.add(Dense(200, activation=\"relu\"))\n",
    "model.add(Dense(100, activation=\"relu\"))\n",
    "model.add(Dense(100, activation=\"tanh\"))\n",
    "model.add(Dense(50, activation=\"relu\"))\n",
    "model.add(Dense(10, activation='softmax')) # output activation should be softmax for classication > 2 output classes"
   ]
  },
  {
   "cell_type": "markdown",
   "metadata": {},
   "source": [
    "### View the Neural Network"
   ]
  },
  {
   "cell_type": "code",
   "execution_count": 9,
   "metadata": {},
   "outputs": [
    {
     "name": "stdout",
     "output_type": "stream",
     "text": [
      "Model: \"sequential\"\n",
      "_________________________________________________________________\n",
      "Layer (type)                 Output Shape              Param #   \n",
      "=================================================================\n",
      "flatten (Flatten)            (None, 784)               0         \n",
      "_________________________________________________________________\n",
      "dense (Dense)                (None, 300)               235500    \n",
      "_________________________________________________________________\n",
      "dense_1 (Dense)              (None, 200)               60200     \n",
      "_________________________________________________________________\n",
      "dense_2 (Dense)              (None, 100)               20100     \n",
      "_________________________________________________________________\n",
      "dense_3 (Dense)              (None, 100)               10100     \n",
      "_________________________________________________________________\n",
      "dense_4 (Dense)              (None, 50)                5050      \n",
      "_________________________________________________________________\n",
      "dense_5 (Dense)              (None, 10)                510       \n",
      "=================================================================\n",
      "Total params: 331,460\n",
      "Trainable params: 331,460\n",
      "Non-trainable params: 0\n",
      "_________________________________________________________________\n"
     ]
    }
   ],
   "source": [
    "model.summary()"
   ]
  },
  {
   "cell_type": "code",
   "execution_count": 10,
   "metadata": {},
   "outputs": [],
   "source": [
    "model.compile(loss=\"sparse_categorical_crossentropy\",\n",
    "             optimizer=\"sgd\",\n",
    "             metrics=['accuracy'])"
   ]
  },
  {
   "cell_type": "code",
   "execution_count": 11,
   "metadata": {},
   "outputs": [
    {
     "name": "stdout",
     "output_type": "stream",
     "text": [
      "Epoch 1/20\n",
      "1182/1182 [==============================] - 3s 2ms/step - loss: 0.8590 - accuracy: 0.7669 - val_loss: 0.3568 - val_accuracy: 0.8998\n",
      "Epoch 2/20\n",
      "1182/1182 [==============================] - 2s 2ms/step - loss: 0.2766 - accuracy: 0.9192 - val_loss: 0.2323 - val_accuracy: 0.9362\n",
      "Epoch 3/20\n",
      "1182/1182 [==============================] - 2s 2ms/step - loss: 0.1995 - accuracy: 0.9411 - val_loss: 0.1914 - val_accuracy: 0.9436\n",
      "Epoch 4/20\n",
      "1182/1182 [==============================] - 3s 2ms/step - loss: 0.1567 - accuracy: 0.9543 - val_loss: 0.1592 - val_accuracy: 0.9510\n",
      "Epoch 5/20\n",
      "1182/1182 [==============================] - 3s 2ms/step - loss: 0.1280 - accuracy: 0.9624 - val_loss: 0.1417 - val_accuracy: 0.9569\n",
      "Epoch 6/20\n",
      "1182/1182 [==============================] - 2s 2ms/step - loss: 0.1079 - accuracy: 0.9687 - val_loss: 0.1678 - val_accuracy: 0.9450\n",
      "Epoch 7/20\n",
      "1182/1182 [==============================] - 3s 2ms/step - loss: 0.0913 - accuracy: 0.9734 - val_loss: 0.1306 - val_accuracy: 0.9583\n",
      "Epoch 8/20\n",
      "1182/1182 [==============================] - 3s 2ms/step - loss: 0.0782 - accuracy: 0.9769 - val_loss: 0.1172 - val_accuracy: 0.9643\n",
      "Epoch 9/20\n",
      "1182/1182 [==============================] - 2s 2ms/step - loss: 0.0682 - accuracy: 0.9796 - val_loss: 0.1536 - val_accuracy: 0.9529\n",
      "Epoch 10/20\n",
      "1182/1182 [==============================] - 2s 2ms/step - loss: 0.0587 - accuracy: 0.9834 - val_loss: 0.1099 - val_accuracy: 0.9636\n",
      "Epoch 11/20\n",
      "1182/1182 [==============================] - 2s 2ms/step - loss: 0.0507 - accuracy: 0.9859 - val_loss: 0.1087 - val_accuracy: 0.9660\n",
      "Epoch 12/20\n",
      "1182/1182 [==============================] - 2s 2ms/step - loss: 0.0437 - accuracy: 0.9880 - val_loss: 0.1057 - val_accuracy: 0.9693\n",
      "Epoch 13/20\n",
      "1182/1182 [==============================] - 2s 2ms/step - loss: 0.0373 - accuracy: 0.9905 - val_loss: 0.1007 - val_accuracy: 0.9676\n",
      "Epoch 14/20\n",
      "1182/1182 [==============================] - 2s 2ms/step - loss: 0.0324 - accuracy: 0.9912 - val_loss: 0.1002 - val_accuracy: 0.9695\n",
      "Epoch 15/20\n",
      "1182/1182 [==============================] - 2s 2ms/step - loss: 0.0270 - accuracy: 0.9940 - val_loss: 0.1078 - val_accuracy: 0.9674\n",
      "Epoch 16/20\n",
      "1182/1182 [==============================] - 3s 2ms/step - loss: 0.0231 - accuracy: 0.9952 - val_loss: 0.2706 - val_accuracy: 0.9260\n",
      "Epoch 17/20\n",
      "1182/1182 [==============================] - 2s 2ms/step - loss: 0.0205 - accuracy: 0.9961 - val_loss: 0.0958 - val_accuracy: 0.9695\n",
      "Epoch 18/20\n",
      "1182/1182 [==============================] - 2s 2ms/step - loss: 0.0168 - accuracy: 0.9970 - val_loss: 0.0960 - val_accuracy: 0.9712\n",
      "Epoch 19/20\n",
      "1182/1182 [==============================] - 2s 2ms/step - loss: 0.0143 - accuracy: 0.9977 - val_loss: 0.0954 - val_accuracy: 0.9719\n",
      "Epoch 20/20\n",
      "1182/1182 [==============================] - 2s 2ms/step - loss: 0.0124 - accuracy: 0.9980 - val_loss: 0.0998 - val_accuracy: 0.9710\n"
     ]
    },
    {
     "data": {
      "text/plain": [
       "<tensorflow.python.keras.callbacks.History at 0x12d14b3a0>"
      ]
     },
     "execution_count": 11,
     "metadata": {},
     "output_type": "execute_result"
    }
   ],
   "source": [
    "model.fit(X_train, y_train, epochs=NUM_EPOCHS, validation_split=0.1)"
   ]
  },
  {
   "cell_type": "markdown",
   "metadata": {},
   "source": [
    "### Show Images and Predictions\n",
    "\n",
    "Below the 10 images for the test class are shown, along with their predictions in the following cell."
   ]
  },
  {
   "cell_type": "code",
   "execution_count": 12,
   "metadata": {},
   "outputs": [
    {
     "data": {
      "image/png": "[encoded data removed]",
      "text/plain": [
       "<Figure size 864x86.4 with 10 Axes>"
      ]
     },
     "metadata": {
      "needs_background": "light"
     },
     "output_type": "display_data"
    }
   ],
   "source": [
    "n_rows = 1\n",
    "n_cols = 10\n",
    "plt.figure(figsize=(n_cols * 1.2, n_rows * 1.2))\n",
    "for row in range(n_rows):\n",
    "    for col in range(n_cols):\n",
    "        index = n_cols * row + col\n",
    "        plt.subplot(n_rows, n_cols, index + 1)\n",
    "        plt.imshow(X_test[index], cmap=\"binary\", interpolation=\"nearest\")\n",
    "        plt.axis('off')\n",
    "plt.subplots_adjust(wspace=0.2, hspace=0.5)\n",
    "plt.show()"
   ]
  },
  {
   "cell_type": "code",
   "execution_count": 13,
   "metadata": {},
   "outputs": [
    {
     "name": "stdout",
     "output_type": "stream",
     "text": [
      "WARNING:tensorflow:From <ipython-input-13-390d4589bf2f>:1: Sequential.predict_classes (from tensorflow.python.keras.engine.sequential) is deprecated and will be removed after 2021-01-01.\n",
      "Instructions for updating:\n",
      "Please use instead:* `np.argmax(model.predict(x), axis=-1)`,   if your model does multi-class classification   (e.g. if it uses a `softmax` last-layer activation).* `(model.predict(x) > 0.5).astype(\"int32\")`,   if your model does binary classification   (e.g. if it uses a `sigmoid` last-layer activation).\n"
     ]
    },
    {
     "data": {
      "text/plain": [
       "array([2, 0, 9, 9, 3, 7, 0, 3, 0, 3])"
      ]
     },
     "execution_count": 13,
     "metadata": {},
     "output_type": "execute_result"
    }
   ],
   "source": [
    "model.predict_classes(X_test[:10])"
   ]
  },
  {
   "cell_type": "markdown",
   "metadata": {},
   "source": [
    "# Convolutional Neural Network\n",
    "\n",
    "Convolutional neural networks are excellent for computer vision tasks, and should perform better than the above fully-connected neural net with almost only dense layers. This will require a bit more pre-processing so layers such as Conv2d and Max Pooling can be used."
   ]
  },
  {
   "cell_type": "code",
   "execution_count": 14,
   "metadata": {},
   "outputs": [
    {
     "name": "stdout",
     "output_type": "stream",
     "text": [
      "Before preprocessing:\n",
      " - X_train.shape = (42000, 28, 28), y_train.shape = (42000,)\n",
      " - X_test.shape = (28000, 28, 28)\n",
      "After preprocessing: \n",
      " - X_train.shape = (42000, 28, 28, 1), y_train.shape = (42000, 10)\n",
      " - X_test.shape = (28000, 28, 28, 1)\n"
     ]
    }
   ],
   "source": [
    "K.clear_session()\n",
    "\n",
    "from tensorflow.keras.utils import to_categorical\n",
    "\n",
    "print('Before preprocessing:')\n",
    "print(' - X_train.shape = {}, y_train.shape = {}'.format(X_train.shape, y_train.shape))\n",
    "print(' - X_test.shape = {}'.format(X_test.shape))\n",
    "\n",
    "# one-hot encode labels to 10 output classes corresponding to digits 0-9\n",
    "y_train = to_categorical(y_train, 10)\n",
    "\n",
    "# reshape the image arrays (make 2D arrays instead of 3D arrays)\n",
    "X_train = np.reshape(X_train, (X_train.shape[0], X_train.shape[1], X_train.shape[2], 1))\n",
    "X_test = np.reshape(X_test, (X_test.shape[0], X_test.shape[1], X_test.shape[2], 1))\n",
    "\n",
    "print('After preprocessing: ')\n",
    "print(' - X_train.shape = {}, y_train.shape = {}'.format(X_train.shape, y_train.shape))\n",
    "print(' - X_test.shape = {}'.format(X_test.shape))"
   ]
  },
  {
   "cell_type": "code",
   "execution_count": 15,
   "metadata": {},
   "outputs": [
    {
     "name": "stdout",
     "output_type": "stream",
     "text": [
      "Model: \"sequential\"\n",
      "_________________________________________________________________\n",
      "Layer (type)                 Output Shape              Param #   \n",
      "=================================================================\n",
      "conv2d (Conv2D)              (None, 28, 28, 64)        640       \n",
      "_________________________________________________________________\n",
      "max_pooling2d (MaxPooling2D) (None, 14, 14, 64)        0         \n",
      "_________________________________________________________________\n",
      "conv2d_1 (Conv2D)            (None, 14, 14, 64)        36928     \n",
      "_________________________________________________________________\n",
      "max_pooling2d_1 (MaxPooling2 (None, 7, 7, 64)          0         \n",
      "_________________________________________________________________\n",
      "conv2d_2 (Conv2D)            (None, 7, 7, 64)          36928     \n",
      "_________________________________________________________________\n",
      "max_pooling2d_2 (MaxPooling2 (None, 3, 3, 64)          0         \n",
      "_________________________________________________________________\n",
      "conv2d_3 (Conv2D)            (None, 3, 3, 64)          36928     \n",
      "_________________________________________________________________\n",
      "max_pooling2d_3 (MaxPooling2 (None, 1, 1, 64)          0         \n",
      "_________________________________________________________________\n",
      "flatten (Flatten)            (None, 64)                0         \n",
      "_________________________________________________________________\n",
      "dropout (Dropout)            (None, 64)                0         \n",
      "_________________________________________________________________\n",
      "dense (Dense)                (None, 10)                650       \n",
      "=================================================================\n",
      "Total params: 112,074\n",
      "Trainable params: 112,074\n",
      "Non-trainable params: 0\n",
      "_________________________________________________________________\n"
     ]
    }
   ],
   "source": [
    "def build_model():\n",
    "    K.clear_session()\n",
    "    \n",
    "    model = Sequential()\n",
    "    model.add(Conv2D(64, kernel_size=(3,3), padding='same', activation='relu',\n",
    "                    input_shape=IMAGE_SHAPE))\n",
    "    model.add(MaxPooling2D(pool_size=(2,2)))\n",
    "    model.add(Conv2D(64, kernel_size=(3,3), padding='same', activation='relu'))\n",
    "    model.add(MaxPooling2D(pool_size=(2,2)))\n",
    "    \n",
    "    model.add(Conv2D(64, kernel_size=(3,3), padding='same', activation='relu',\n",
    "                input_shape=IMAGE_SHAPE))\n",
    "    model.add(MaxPooling2D(pool_size=(2,2)))\n",
    "    model.add(Conv2D(64, kernel_size=(3,3), padding='same', activation='relu'))\n",
    "    model.add(MaxPooling2D(pool_size=(2,2)))\n",
    "    \n",
    "    model.add(Flatten())\n",
    "    model.add(Dropout(0.45))\n",
    "    # output is softmax for 10 classes\n",
    "    model.add(Dense(NUM_CLASSES, activation='softmax'))\n",
    "    adam = optimizers.Adam(lr=0.001)\n",
    "    model.compile(optimizer=adam, loss='categorical_crossentropy', metrics=['acc'])\n",
    "    return model\n",
    "\n",
    "model = build_model()\n",
    "model.summary()"
   ]
  },
  {
   "cell_type": "code",
   "execution_count": 16,
   "metadata": {},
   "outputs": [
    {
     "name": "stdout",
     "output_type": "stream",
     "text": [
      "Epoch 1/20\n",
      "296/296 [==============================] - 35s 117ms/step - loss: 0.5212 - acc: 0.8337 - val_loss: 0.1111 - val_acc: 0.9645\n",
      "Epoch 2/20\n",
      "296/296 [==============================] - 35s 118ms/step - loss: 0.1678 - acc: 0.9513 - val_loss: 0.0680 - val_acc: 0.9788\n",
      "Epoch 3/20\n",
      "296/296 [==============================] - 35s 119ms/step - loss: 0.1143 - acc: 0.9672 - val_loss: 0.0564 - val_acc: 0.9810\n",
      "Epoch 4/20\n",
      "296/296 [==============================] - 35s 119ms/step - loss: 0.0942 - acc: 0.9727 - val_loss: 0.0484 - val_acc: 0.9836\n",
      "Epoch 5/20\n",
      "296/296 [==============================] - 36s 121ms/step - loss: 0.0785 - acc: 0.9774 - val_loss: 0.0458 - val_acc: 0.9852\n",
      "Epoch 6/20\n",
      "296/296 [==============================] - 36s 121ms/step - loss: 0.0647 - acc: 0.9801 - val_loss: 0.0335 - val_acc: 0.9888\n",
      "Epoch 7/20\n",
      "296/296 [==============================] - 36s 120ms/step - loss: 0.0617 - acc: 0.9814 - val_loss: 0.0448 - val_acc: 0.9879\n",
      "Epoch 8/20\n",
      "296/296 [==============================] - 36s 121ms/step - loss: 0.0541 - acc: 0.9844 - val_loss: 0.0295 - val_acc: 0.9898\n",
      "Epoch 9/20\n",
      "296/296 [==============================] - 36s 123ms/step - loss: 0.0478 - acc: 0.9848 - val_loss: 0.0420 - val_acc: 0.9864\n",
      "Epoch 10/20\n",
      "296/296 [==============================] - 36s 122ms/step - loss: 0.0454 - acc: 0.9867 - val_loss: 0.0333 - val_acc: 0.9881\n",
      "Epoch 11/20\n",
      "296/296 [==============================] - 36s 123ms/step - loss: 0.0416 - acc: 0.9873 - val_loss: 0.0356 - val_acc: 0.9883\n",
      "Epoch 12/20\n",
      "296/296 [==============================] - 37s 124ms/step - loss: 0.0364 - acc: 0.9894 - val_loss: 0.0323 - val_acc: 0.9895\n",
      "Epoch 13/20\n",
      "296/296 [==============================] - 36s 123ms/step - loss: 0.0320 - acc: 0.9900 - val_loss: 0.0284 - val_acc: 0.9910\n",
      "Epoch 14/20\n",
      "296/296 [==============================] - 36s 123ms/step - loss: 0.0307 - acc: 0.9901 - val_loss: 0.0306 - val_acc: 0.9912\n",
      "Epoch 15/20\n",
      "296/296 [==============================] - 37s 125ms/step - loss: 0.0284 - acc: 0.9910 - val_loss: 0.0349 - val_acc: 0.9910\n",
      "Epoch 16/20\n",
      "296/296 [==============================] - 37s 123ms/step - loss: 0.0268 - acc: 0.9912 - val_loss: 0.0420 - val_acc: 0.9879\n",
      "Epoch 17/20\n",
      "296/296 [==============================] - 37s 124ms/step - loss: 0.0258 - acc: 0.9917 - val_loss: 0.0295 - val_acc: 0.9917\n",
      "Epoch 18/20\n",
      "296/296 [==============================] - 38s 127ms/step - loss: 0.0274 - acc: 0.9911 - val_loss: 0.0291 - val_acc: 0.9898\n",
      "Epoch 19/20\n",
      "296/296 [==============================] - 38s 127ms/step - loss: 0.0236 - acc: 0.9926 - val_loss: 0.0397 - val_acc: 0.9888\n",
      "Epoch 20/20\n",
      "296/296 [==============================] - 37s 123ms/step - loss: 0.0209 - acc: 0.9939 - val_loss: 0.0290 - val_acc: 0.9905\n"
     ]
    }
   ],
   "source": [
    "# train the model\n",
    "history = model.fit(X_train, y_train, epochs=NUM_EPOCHS, \n",
    "                    batch_size=BATCH_SIZE, validation_split=0.1)"
   ]
  },
  {
   "cell_type": "markdown",
   "metadata": {},
   "source": [
    "### Show Images and Predictions"
   ]
  },
  {
   "cell_type": "code",
   "execution_count": 17,
   "metadata": {},
   "outputs": [
    {
     "data": {
      "image/png": "[encoded data removed]",
      "text/plain": [
       "<Figure size 864x432 with 50 Axes>"
      ]
     },
     "metadata": {
      "needs_background": "light"
     },
     "output_type": "display_data"
    }
   ],
   "source": [
    "n_rows = 5\n",
    "n_cols = 10\n",
    "plt.figure(figsize=(n_cols * 1.2, n_rows * 1.2))\n",
    "for row in range(n_rows):\n",
    "    for col in range(n_cols):\n",
    "        index = n_cols * row + col\n",
    "        plt.subplot(n_rows, n_cols, index + 1)\n",
    "        plt.imshow(X_test[index].mean(axis=2), cmap=\"binary\", interpolation=\"nearest\")\n",
    "        pred = model.predict_classes(X_test[index:index+1])[0]\n",
    "        plt.title(\"Pred: {}\".format(pred))\n",
    "        plt.axis('off')\n",
    "plt.subplots_adjust(wspace=0.2, hspace=0.5)\n",
    "plt.show()"
   ]
  },
  {
   "cell_type": "markdown",
   "metadata": {},
   "source": [
    "### Conduct Final Predictions For Kaggle Test Set"
   ]
  },
  {
   "cell_type": "code",
   "execution_count": 18,
   "metadata": {},
   "outputs": [],
   "source": [
    "preds = model.predict_classes(X_test)\n",
    "output_dict = {\"ImageId\": np.arange(1, len(preds) + 1, 1), \"label\": preds}\n",
    "preds_df = pd.DataFrame(output_dict)"
   ]
  },
  {
   "cell_type": "code",
   "execution_count": 19,
   "metadata": {},
   "outputs": [],
   "source": [
    "preds_df.to_csv(\"mnist_conv_net.csv\", index=False)"
   ]
  },
  {
   "cell_type": "code",
   "execution_count": null,
   "metadata": {},
   "outputs": [],
   "source": []
  }
 ],
 "metadata": {
  "kernelspec": {
   "display_name": "Python 3",
   "language": "python",
   "name": "python3"
  },
  "language_info": {
   "codemirror_mode": {
    "name": "ipython",
    "version": 3
   },
   "file_extension": ".py",
   "mimetype": "text/x-python",
   "name": "python",
   "nbconvert_exporter": "python",
   "pygments_lexer": "ipython3",
   "version": "3.8.3"
  }
 },
 "nbformat": 4,
 "nbformat_minor": 4
}
