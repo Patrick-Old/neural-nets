{
 "cells": [
  {
   "cell_type": "markdown",
   "metadata": {},
   "source": [
    "# Kaggle Digit Classification Competition\n",
    "Neural Netorks using Tensorflow 2.0  \n",
    "[Kaggle Digit Classification Competition Website](https://www.kaggle.com/c/digit-recognizer)  \n",
    "Patrick Old"
   ]
  },
  {
   "cell_type": "code",
   "execution_count": 1,
   "metadata": {},
   "outputs": [],
   "source": [
    "import tensorflow as tf\n",
    "import matplotlib.pyplot as plt\n",
    "from tensorflow.keras.models import Sequential\n",
    "from tensorflow.keras.layers import Dense, Conv2D, Dropout, Flatten, MaxPooling2D\n",
    "import tensorflow.keras.backend as K\n",
    "from tensorflow.keras import optimizers\n",
    "from sklearn.model_selection import train_test_split\n",
    "import numpy as np\n",
    "import pandas as pd"
   ]
  },
  {
   "cell_type": "code",
   "execution_count": 2,
   "metadata": {},
   "outputs": [],
   "source": [
    "# set some globals, which are used across the remaining functions\n",
    "IMAGE_SHAPE = (28,28,1)\n",
    "NUM_CLASSES = 10\n",
    "# training parameters\n",
    "NUM_EPOCHS = 20\n",
    "BATCH_SIZE = 128"
   ]
  },
  {
   "cell_type": "code",
   "execution_count": 3,
   "metadata": {},
   "outputs": [],
   "source": [
    "train_df = pd.read_csv(\"train.csv\")\n",
    "test_df = pd.read_csv(\"test.csv\")\n",
    "\n",
    "y_train = train_df['label']\n",
    "X_train = train_df.drop('label', axis=1)\n",
    "X_test = test_df"
   ]
  },
  {
   "cell_type": "code",
   "execution_count": 4,
   "metadata": {},
   "outputs": [],
   "source": [
    "X_train = X_train.to_numpy().reshape(42000, 28, 28)\n",
    "X_test = X_test.to_numpy().reshape(28000, 28, 28)"
   ]
  },
  {
   "cell_type": "code",
   "execution_count": 5,
   "metadata": {},
   "outputs": [],
   "source": [
    "y_train = y_train.to_numpy()"
   ]
  },
  {
   "cell_type": "markdown",
   "metadata": {},
   "source": [
    "### Show Image"
   ]
  },
  {
   "cell_type": "code",
   "execution_count": 6,
   "metadata": {},
   "outputs": [
    {
     "data": {
      "text/plain": [
       "<matplotlib.image.AxesImage at 0x13b0c2c10>"
      ]
     },
     "execution_count": 6,
     "metadata": {},
     "output_type": "execute_result"
    },
    {
     "data": {
      "image/png": "[encoded data removed]",
      "text/plain": [
       "<Figure size 432x288 with 1 Axes>"
      ]
     },
     "metadata": {
      "needs_background": "light"
     },
     "output_type": "display_data"
    }
   ],
   "source": [
    "image_index = 1 # You may select anything up to 60,000\n",
    "#print(img_names[y_train[image_index][0]]) # Print the label\n",
    "plt.imshow(X_train[image_index], cmap='Greys') # Show the image"
   ]
  },
  {
   "cell_type": "markdown",
   "metadata": {},
   "source": [
    "### Data Cleansing\n",
    "Scaling all values to be between 0-1 for gradient descent to work properly"
   ]
  },
  {
   "cell_type": "code",
   "execution_count": 7,
   "metadata": {},
   "outputs": [],
   "source": [
    "X_train = (X_train.astype('float32') / 255.0)\n",
    "X_test = (X_test.astype('float32') / 255.0)"
   ]
  },
  {
   "cell_type": "markdown",
   "metadata": {},
   "source": [
    "### Create Neural Network\n",
    "Create an arbitrary sequential neural network that is sequential and fully connected."
   ]
  },
  {
   "cell_type": "code",
   "execution_count": 8,
   "metadata": {},
   "outputs": [],
   "source": [
    "model = Sequential()\n",
    "\n",
    "model.add(Flatten(input_shape=[28,28])) # Change from 2-D to 1-D (28*28 neurons in input layer)\n",
    "\n",
    "# Create Pyramid-like sequence for neural net\n",
    "model.add(Dense(300, activation=\"relu\"))\n",
    "model.add(Dense(200, activation=\"relu\"))\n",
    "model.add(Dense(100, activation=\"relu\"))\n",
    "model.add(Dense(100, activation=\"tanh\"))\n",
    "model.add(Dense(50, activation=\"relu\"))\n",
    "model.add(Dense(10, activation='softmax')) # output activation should be softmax for classication > 2 output classes"
   ]
  },
  {
   "cell_type": "markdown",
   "metadata": {},
   "source": [
    "### View the Neural Network"
   ]
  },
  {
   "cell_type": "code",
   "execution_count": 9,
   "metadata": {},
   "outputs": [
    {
     "name": "stdout",
     "output_type": "stream",
     "text": [
      "Model: \"sequential\"\n",
      "_________________________________________________________________\n",
      "Layer (type)                 Output Shape              Param #   \n",
      "=================================================================\n",
      "flatten (Flatten)            (None, 784)               0         \n",
      "_________________________________________________________________\n",
      "dense (Dense)                (None, 300)               235500    \n",
      "_________________________________________________________________\n",
      "dense_1 (Dense)              (None, 200)               60200     \n",
      "_________________________________________________________________\n",
      "dense_2 (Dense)              (None, 100)               20100     \n",
      "_________________________________________________________________\n",
      "dense_3 (Dense)              (None, 100)               10100     \n",
      "_________________________________________________________________\n",
      "dense_4 (Dense)              (None, 50)                5050      \n",
      "_________________________________________________________________\n",
      "dense_5 (Dense)              (None, 10)                510       \n",
      "=================================================================\n",
      "Total params: 331,460\n",
      "Trainable params: 331,460\n",
      "Non-trainable params: 0\n",
      "_________________________________________________________________\n"
     ]
    }
   ],
   "source": [
    "model.summary()"
   ]
  },
  {
   "cell_type": "markdown",
   "metadata": {},
   "source": [
    "### Model Training\n",
    "Previously found 20 epochs to not overfit the data too significantly, achieving ~97% accuracy on validation dataset. Retraining here with no validation dataset so the entire training dataset is used."
   ]
  },
  {
   "cell_type": "code",
   "execution_count": 10,
   "metadata": {},
   "outputs": [],
   "source": [
    "model.compile(loss=\"sparse_categorical_crossentropy\",\n",
    "             optimizer=\"sgd\",\n",
    "             metrics=['accuracy'])"
   ]
  },
  {
   "cell_type": "code",
   "execution_count": 11,
   "metadata": {},
   "outputs": [
    {
     "name": "stdout",
     "output_type": "stream",
     "text": [
      "Epoch 1/20\n",
      "1313/1313 [==============================] - 3s 3ms/step - loss: 0.7388 - accuracy: 0.8008\n",
      "Epoch 2/20\n",
      "1313/1313 [==============================] - 3s 2ms/step - loss: 0.2515 - accuracy: 0.9254\n",
      "Epoch 3/20\n",
      "1313/1313 [==============================] - 3s 2ms/step - loss: 0.1834 - accuracy: 0.9453\n",
      "Epoch 4/20\n",
      "1313/1313 [==============================] - 2s 2ms/step - loss: 0.1441 - accuracy: 0.9573\n",
      "Epoch 5/20\n",
      "1313/1313 [==============================] - 3s 2ms/step - loss: 0.1170 - accuracy: 0.9655\n",
      "Epoch 6/20\n",
      "1313/1313 [==============================] - 2s 2ms/step - loss: 0.0982 - accuracy: 0.9719\n",
      "Epoch 7/20\n",
      "1313/1313 [==============================] - 3s 2ms/step - loss: 0.0831 - accuracy: 0.9762\n",
      "Epoch 8/20\n",
      "1313/1313 [==============================] - 3s 2ms/step - loss: 0.0716 - accuracy: 0.9794\n",
      "Epoch 9/20\n",
      "1313/1313 [==============================] - 3s 2ms/step - loss: 0.0623 - accuracy: 0.9822\n",
      "Epoch 10/20\n",
      "1313/1313 [==============================] - 3s 2ms/step - loss: 0.0532 - accuracy: 0.9842\n",
      "Epoch 11/20\n",
      "1313/1313 [==============================] - 4s 3ms/step - loss: 0.0446 - accuracy: 0.9875: \n",
      "Epoch 12/20\n",
      "1313/1313 [==============================] - 4s 3ms/step - loss: 0.0390 - accuracy: 0.9888\n",
      "Epoch 13/20\n",
      "1313/1313 [==============================] - 5s 3ms/step - loss: 0.0336 - accuracy: 0.9911\n",
      "Epoch 14/20\n",
      "1313/1313 [==============================] - 3s 2ms/step - loss: 0.0287 - accuracy: 0.9927\n",
      "Epoch 15/20\n",
      "1313/1313 [==============================] - 3s 2ms/step - loss: 0.0242 - accuracy: 0.9942\n",
      "Epoch 16/20\n",
      "1313/1313 [==============================] - 3s 2ms/step - loss: 0.0209 - accuracy: 0.9956\n",
      "Epoch 17/20\n",
      "1313/1313 [==============================] - 2s 2ms/step - loss: 0.0177 - accuracy: 0.9968\n",
      "Epoch 18/20\n",
      "1313/1313 [==============================] - 3s 2ms/step - loss: 0.0147 - accuracy: 0.9978\n",
      "Epoch 19/20\n",
      "1313/1313 [==============================] - 3s 2ms/step - loss: 0.0130 - accuracy: 0.9978\n",
      "Epoch 20/20\n",
      "1313/1313 [==============================] - 2s 2ms/step - loss: 0.0107 - accuracy: 0.9986\n"
     ]
    },
    {
     "data": {
      "text/plain": [
       "<tensorflow.python.keras.callbacks.History at 0x13126e370>"
      ]
     },
     "execution_count": 11,
     "metadata": {},
     "output_type": "execute_result"
    }
   ],
   "source": [
    "model.fit(X_train, y_train, epochs=NUM_EPOCHS)"
   ]
  },
  {
   "cell_type": "markdown",
   "metadata": {},
   "source": [
    "### Show Images and Predictions\n",
    "\n",
    "Below the 10 images for the test class are shown, along with their predictions in the following cell."
   ]
  },
  {
   "cell_type": "code",
   "execution_count": 12,
   "metadata": {},
   "outputs": [
    {
     "name": "stdout",
     "output_type": "stream",
     "text": [
      "WARNING:tensorflow:From <ipython-input-12-ca986d89445c>:9: Sequential.predict_classes (from tensorflow.python.keras.engine.sequential) is deprecated and will be removed after 2021-01-01.\n",
      "Instructions for updating:\n",
      "Please use instead:* `np.argmax(model.predict(x), axis=-1)`,   if your model does multi-class classification   (e.g. if it uses a `softmax` last-layer activation).* `(model.predict(x) > 0.5).astype(\"int32\")`,   if your model does binary classification   (e.g. if it uses a `sigmoid` last-layer activation).\n"
     ]
    },
    {
     "data": {
      "image/png": "[encoded data removed]",
      "text/plain": [
       "<Figure size 864x432 with 50 Axes>"
      ]
     },
     "metadata": {
      "needs_background": "light"
     },
     "output_type": "display_data"
    }
   ],
   "source": [
    "n_rows = 5\n",
    "n_cols = 10\n",
    "plt.figure(figsize=(n_cols * 1.2, n_rows * 1.2))\n",
    "for row in range(n_rows):\n",
    "    for col in range(n_cols):\n",
    "        index = n_cols * row + col\n",
    "        plt.subplot(n_rows, n_cols, index + 1)\n",
    "        plt.imshow(X_test[index], cmap=\"binary\", interpolation=\"nearest\")\n",
    "        pred = model.predict_classes(X_test[index:index+1])[0]\n",
    "        plt.title(\"Pred: {}\".format(pred))\n",
    "        plt.axis('off')\n",
    "plt.subplots_adjust(wspace=0.2, hspace=0.5)\n",
    "plt.show()"
   ]
  },
  {
   "cell_type": "code",
   "execution_count": 13,
   "metadata": {},
   "outputs": [],
   "source": [
    "preds = model.predict_classes(X_test)\n",
    "output_dict = {\"ImageId\": np.arange(1, len(preds) + 1, 1), \"label\": preds}\n",
    "preds_df = pd.DataFrame(output_dict)"
   ]
  },
  {
   "cell_type": "code",
   "execution_count": 14,
   "metadata": {},
   "outputs": [],
   "source": [
    "preds_df.to_csv(\"mnist_dense_net.csv\", index=False)"
   ]
  },
  {
   "cell_type": "markdown",
   "metadata": {},
   "source": [
    "### Accuracy Evaluation\n",
    "This model achieves ~97.2% accuracy when uploading the predictions on the test dataset to the Kaggle competition website. Mistakes here can be seen in the first row, fourth column of the above image. We should be able to do better than this. Next, let's try a convolutional neural network (CNN) for better accuracy."
   ]
  },
  {
   "cell_type": "markdown",
   "metadata": {},
   "source": [
    "# Convolutional Neural Network\n",
    "\n",
    "Convolutional neural networks are excellent for computer vision tasks, and should perform better than the above fully-connected neural net with almost only dense layers. This will require a bit more pre-processing so layers such as Conv2d and Max Pooling can be used."
   ]
  },
  {
   "cell_type": "code",
   "execution_count": 15,
   "metadata": {},
   "outputs": [
    {
     "name": "stdout",
     "output_type": "stream",
     "text": [
      "Before preprocessing:\n",
      " - X_train.shape = (42000, 28, 28), y_train.shape = (42000,)\n",
      " - X_test.shape = (28000, 28, 28)\n",
      "After preprocessing: \n",
      " - X_train.shape = (42000, 28, 28, 1), y_train.shape = (42000, 10)\n",
      " - X_test.shape = (28000, 28, 28, 1)\n"
     ]
    }
   ],
   "source": [
    "K.clear_session()\n",
    "\n",
    "from tensorflow.keras.utils import to_categorical\n",
    "\n",
    "print('Before preprocessing:')\n",
    "print(' - X_train.shape = {}, y_train.shape = {}'.format(X_train.shape, y_train.shape))\n",
    "print(' - X_test.shape = {}'.format(X_test.shape))\n",
    "\n",
    "# one-hot encode labels to 10 output classes corresponding to digits 0-9\n",
    "y_train = to_categorical(y_train, 10)\n",
    "\n",
    "# reshape the image arrays (make 2D arrays instead of 3D arrays)\n",
    "X_train = np.reshape(X_train, (X_train.shape[0], X_train.shape[1], X_train.shape[2], 1))\n",
    "X_test = np.reshape(X_test, (X_test.shape[0], X_test.shape[1], X_test.shape[2], 1))\n",
    "\n",
    "print('After preprocessing: ')\n",
    "print(' - X_train.shape = {}, y_train.shape = {}'.format(X_train.shape, y_train.shape))\n",
    "print(' - X_test.shape = {}'.format(X_test.shape))"
   ]
  },
  {
   "cell_type": "code",
   "execution_count": 16,
   "metadata": {},
   "outputs": [
    {
     "name": "stdout",
     "output_type": "stream",
     "text": [
      "Model: \"sequential\"\n",
      "_________________________________________________________________\n",
      "Layer (type)                 Output Shape              Param #   \n",
      "=================================================================\n",
      "conv2d (Conv2D)              (None, 28, 28, 64)        640       \n",
      "_________________________________________________________________\n",
      "max_pooling2d (MaxPooling2D) (None, 14, 14, 64)        0         \n",
      "_________________________________________________________________\n",
      "conv2d_1 (Conv2D)            (None, 14, 14, 64)        36928     \n",
      "_________________________________________________________________\n",
      "max_pooling2d_1 (MaxPooling2 (None, 7, 7, 64)          0         \n",
      "_________________________________________________________________\n",
      "conv2d_2 (Conv2D)            (None, 7, 7, 64)          36928     \n",
      "_________________________________________________________________\n",
      "max_pooling2d_2 (MaxPooling2 (None, 3, 3, 64)          0         \n",
      "_________________________________________________________________\n",
      "conv2d_3 (Conv2D)            (None, 3, 3, 64)          36928     \n",
      "_________________________________________________________________\n",
      "max_pooling2d_3 (MaxPooling2 (None, 1, 1, 64)          0         \n",
      "_________________________________________________________________\n",
      "flatten (Flatten)            (None, 64)                0         \n",
      "_________________________________________________________________\n",
      "dropout (Dropout)            (None, 64)                0         \n",
      "_________________________________________________________________\n",
      "dense (Dense)                (None, 10)                650       \n",
      "=================================================================\n",
      "Total params: 112,074\n",
      "Trainable params: 112,074\n",
      "Non-trainable params: 0\n",
      "_________________________________________________________________\n"
     ]
    }
   ],
   "source": [
    "def build_model():\n",
    "    K.clear_session()\n",
    "    \n",
    "    model = Sequential()\n",
    "    model.add(Conv2D(64, kernel_size=(3,3), padding='same', activation='relu',\n",
    "                    input_shape=IMAGE_SHAPE))\n",
    "    model.add(MaxPooling2D(pool_size=(2,2)))\n",
    "    model.add(Conv2D(64, kernel_size=(3,3), padding='same', activation='relu'))\n",
    "    model.add(MaxPooling2D(pool_size=(2,2)))\n",
    "    \n",
    "    model.add(Conv2D(64, kernel_size=(3,3), padding='same', activation='relu',\n",
    "                input_shape=IMAGE_SHAPE))\n",
    "    model.add(MaxPooling2D(pool_size=(2,2)))\n",
    "    model.add(Conv2D(64, kernel_size=(3,3), padding='same', activation='relu'))\n",
    "    model.add(MaxPooling2D(pool_size=(2,2)))\n",
    "    \n",
    "    model.add(Flatten())\n",
    "    model.add(Dropout(0.45))\n",
    "    # output is softmax for 10 classes\n",
    "    model.add(Dense(NUM_CLASSES, activation='softmax'))\n",
    "    adam = optimizers.Adam(lr=0.001)\n",
    "    model.compile(optimizer=adam, loss='categorical_crossentropy', metrics=['acc'])\n",
    "    return model\n",
    "\n",
    "model = build_model()\n",
    "model.summary()"
   ]
  },
  {
   "cell_type": "markdown",
   "metadata": {},
   "source": [
    "# Train The Model\n",
    "I previously used a validation dataset to confirm approximate number of epochs to use. Now I will train the model using the entire training dataset and 20 epochs to ensure best accuracy for the final model.\n",
    "\n",
    "Be sure to save the model every several epochs and check validation accuracy at each checkpoint for doing this in a more advanced way."
   ]
  },
  {
   "cell_type": "code",
   "execution_count": 17,
   "metadata": {},
   "outputs": [
    {
     "name": "stdout",
     "output_type": "stream",
     "text": [
      "Epoch 1/20\n",
      "329/329 [==============================] - 45s 137ms/step - loss: 0.4650 - acc: 0.8511\n",
      "Epoch 2/20\n",
      "329/329 [==============================] - 41s 123ms/step - loss: 0.1416 - acc: 0.9591\n",
      "Epoch 3/20\n",
      "329/329 [==============================] - 39s 120ms/step - loss: 0.1003 - acc: 0.9711\n",
      "Epoch 4/20\n",
      "329/329 [==============================] - 37s 113ms/step - loss: 0.0786 - acc: 0.9770\n",
      "Epoch 5/20\n",
      "329/329 [==============================] - 39s 117ms/step - loss: 0.0653 - acc: 0.9813\n",
      "Epoch 6/20\n",
      "329/329 [==============================] - 38s 116ms/step - loss: 0.0566 - acc: 0.9835\n",
      "Epoch 7/20\n",
      "329/329 [==============================] - 39s 117ms/step - loss: 0.0498 - acc: 0.9853\n",
      "Epoch 8/20\n",
      "329/329 [==============================] - 39s 117ms/step - loss: 0.0439 - acc: 0.9867\n",
      "Epoch 9/20\n",
      "329/329 [==============================] - 39s 117ms/step - loss: 0.0438 - acc: 0.9866\n",
      "Epoch 10/20\n",
      "329/329 [==============================] - 38s 116ms/step - loss: 0.0352 - acc: 0.9896\n",
      "Epoch 11/20\n",
      "329/329 [==============================] - 38s 117ms/step - loss: 0.0325 - acc: 0.9899\n",
      "Epoch 12/20\n",
      "329/329 [==============================] - 39s 118ms/step - loss: 0.0312 - acc: 0.9906\n",
      "Epoch 13/20\n",
      "329/329 [==============================] - 39s 119ms/step - loss: 0.0301 - acc: 0.9901\n",
      "Epoch 14/20\n",
      "329/329 [==============================] - 39s 118ms/step - loss: 0.0248 - acc: 0.9918\n",
      "Epoch 15/20\n",
      "329/329 [==============================] - 40s 121ms/step - loss: 0.0248 - acc: 0.9921\n",
      "Epoch 16/20\n",
      "329/329 [==============================] - 43s 130ms/step - loss: 0.0229 - acc: 0.9923\n",
      "Epoch 17/20\n",
      "329/329 [==============================] - 39s 119ms/step - loss: 0.0207 - acc: 0.9936\n",
      "Epoch 18/20\n",
      "329/329 [==============================] - 40s 121ms/step - loss: 0.0202 - acc: 0.9938\n",
      "Epoch 19/20\n",
      "329/329 [==============================] - 39s 119ms/step - loss: 0.0214 - acc: 0.9934\n",
      "Epoch 20/20\n",
      "329/329 [==============================] - 39s 119ms/step - loss: 0.0167 - acc: 0.9945\n"
     ]
    }
   ],
   "source": [
    "history = model.fit(X_train, y_train, epochs=NUM_EPOCHS, \n",
    "                    batch_size=BATCH_SIZE)"
   ]
  },
  {
   "cell_type": "markdown",
   "metadata": {},
   "source": [
    "### Show Images and Predictions"
   ]
  },
  {
   "cell_type": "code",
   "execution_count": 18,
   "metadata": {},
   "outputs": [
    {
     "data": {
      "image/png": "[encoded data removed]",
      "text/plain": [
       "<Figure size 864x432 with 50 Axes>"
      ]
     },
     "metadata": {
      "needs_background": "light"
     },
     "output_type": "display_data"
    }
   ],
   "source": [
    "n_rows = 5\n",
    "n_cols = 10\n",
    "plt.figure(figsize=(n_cols * 1.2, n_rows * 1.2))\n",
    "for row in range(n_rows):\n",
    "    for col in range(n_cols):\n",
    "        index = n_cols * row + col\n",
    "        plt.subplot(n_rows, n_cols, index + 1)\n",
    "        plt.imshow(X_test[index].mean(axis=2), cmap=\"binary\", interpolation=\"nearest\")\n",
    "        pred = model.predict_classes(X_test[index:index+1])[0]\n",
    "        plt.title(\"Pred: {}\".format(pred))\n",
    "        plt.axis('off')\n",
    "plt.subplots_adjust(wspace=0.2, hspace=0.5)\n",
    "plt.show()"
   ]
  },
  {
   "cell_type": "markdown",
   "metadata": {},
   "source": [
    "### Conduct Final Predictions For Kaggle Test Set"
   ]
  },
  {
   "cell_type": "code",
   "execution_count": 19,
   "metadata": {},
   "outputs": [],
   "source": [
    "preds = model.predict_classes(X_test)\n",
    "output_dict = {\"ImageId\": np.arange(1, len(preds) + 1, 1), \"label\": preds}\n",
    "preds_df = pd.DataFrame(output_dict)"
   ]
  },
  {
   "cell_type": "code",
   "execution_count": 20,
   "metadata": {},
   "outputs": [],
   "source": [
    "preds_df.to_csv(\"mnist_conv_net.csv\", index=False)"
   ]
  },
  {
   "cell_type": "markdown",
   "metadata": {},
   "source": [
    "### Accuracy Evaluation\n",
    "\n",
    "The convolutional neural network achieves ~99% accuracy on the Kaggle test dataset, confirmed when uploading to the competition website."
   ]
  }
 ],
 "metadata": {
  "kernelspec": {
   "display_name": "Python 3",
   "language": "python",
   "name": "python3"
  },
  "language_info": {
   "codemirror_mode": {
    "name": "ipython",
    "version": 3
   },
   "file_extension": ".py",
   "mimetype": "text/x-python",
   "name": "python",
   "nbconvert_exporter": "python",
   "pygments_lexer": "ipython3",
   "version": "3.8.3"
  }
 },
 "nbformat": 4,
 "nbformat_minor": 4
}
