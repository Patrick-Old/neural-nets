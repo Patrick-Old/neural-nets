{
 "cells": [
  {
   "cell_type": "markdown",
   "metadata": {},
   "source": [
    "# Digit Classification Tutorial\n",
    "Neural Netorks using Tensorflow 2.0  \n",
    "Patrick Old"
   ]
  },
  {
   "cell_type": "code",
   "execution_count": 1,
   "metadata": {},
   "outputs": [],
   "source": [
    "import tensorflow as tf\n",
    "import matplotlib.pyplot as plt\n",
    "from tensorflow.keras.models import Sequential\n",
    "from tensorflow.keras.layers import Dense, Conv2D, Dropout, Flatten, MaxPooling2D"
   ]
  },
  {
   "cell_type": "code",
   "execution_count": 2,
   "metadata": {},
   "outputs": [],
   "source": [
    "(x_train, y_train), (x_test, y_test) = tf.keras.datasets.cifar10.load_data()"
   ]
  },
  {
   "cell_type": "markdown",
   "metadata": {},
   "source": [
    "### Create Validation Dataset"
   ]
  },
  {
   "cell_type": "code",
   "execution_count": 3,
   "metadata": {},
   "outputs": [],
   "source": [
    "x_val = x_train[:10000]\n",
    "y_val = y_train[:10000]\n",
    "x_train = x_train[10000:]\n",
    "y_train = y_train[10000:]"
   ]
  },
  {
   "cell_type": "markdown",
   "metadata": {},
   "source": [
    "### Show Example Image\n",
    "Airplane : 0  \n",
    "Automobile : 1  \n",
    "Bird : 2  \n",
    "Cat : 3  \n",
    "Deer : 4  \n",
    "Dog : 5  \n",
    "Frog : 6  \n",
    "Horse : 7  \n",
    "Ship : 8  \n",
    "Truck : 9  "
   ]
  },
  {
   "cell_type": "code",
   "execution_count": 4,
   "metadata": {},
   "outputs": [],
   "source": [
    "img_names = [\"Airplane\", \"Automobile\", \"Bird\", \"Cat\", \"Deer\", \"Dog\", \n",
    "            \"Frog\", \"Horse\", \"Ship\", \"Truck\"]"
   ]
  },
  {
   "cell_type": "code",
   "execution_count": 5,
   "metadata": {},
   "outputs": [
    {
     "data": {
      "text/plain": [
       "<matplotlib.image.AxesImage at 0x14f4d09d0>"
      ]
     },
     "execution_count": 5,
     "metadata": {},
     "output_type": "execute_result"
    },
    {
     "data": {
      "image/png": "[encoded data removed]",
      "text/plain": [
       "<Figure size 432x288 with 1 Axes>"
      ]
     },
     "metadata": {
      "needs_background": "light"
     },
     "output_type": "display_data"
    }
   ],
   "source": [
    "image_index = 0 # You may select anything up to 60,000\n",
    "#print(img_names[y_train[image_index][0]]) # Print the label\n",
    "plt.imshow(x_train[image_index], cmap='Greys') # Show the image"
   ]
  },
  {
   "cell_type": "markdown",
   "metadata": {},
   "source": [
    "### Data Cleansing\n",
    "Scaling all values to be between 0-1 for gradient descent to work properly"
   ]
  },
  {
   "cell_type": "code",
   "execution_count": 6,
   "metadata": {},
   "outputs": [],
   "source": [
    "x_val = (x_val.astype('float32') / 255.0)\n",
    "x_train = (x_train.astype('float32') / 255.0)\n",
    "x_test = (x_test.astype('float32') / 255.0)"
   ]
  },
  {
   "cell_type": "code",
   "execution_count": 7,
   "metadata": {},
   "outputs": [
    {
     "data": {
      "text/plain": [
       "(40000, 32, 32, 3)"
      ]
     },
     "execution_count": 7,
     "metadata": {},
     "output_type": "execute_result"
    }
   ],
   "source": [
    "x_train.shape"
   ]
  },
  {
   "cell_type": "code",
   "execution_count": 8,
   "metadata": {},
   "outputs": [],
   "source": [
    "model = Sequential([\n",
    "    Flatten(input_shape=[32,32,3]),\n",
    "    Dense(300, activation='relu'),\n",
    "    Dense(300, activation='relu'),\n",
    "    Dense(300, activation='tanh'),\n",
    "    Dense(200, activation='tanh'),\n",
    "    Dense(200, activation='tanh'),\n",
    "    Dense(200, activation='tanh'),\n",
    "    Dense(100, activation='relu'),\n",
    "    Dense(50, activation='relu'),\n",
    "    Dense(25, activation='relu'),\n",
    "    Dense(10, activation='softmax')\n",
    "])"
   ]
  },
  {
   "cell_type": "markdown",
   "metadata": {},
   "source": [
    "### View the Neural Network"
   ]
  },
  {
   "cell_type": "code",
   "execution_count": 9,
   "metadata": {},
   "outputs": [
    {
     "name": "stdout",
     "output_type": "stream",
     "text": [
      "Model: \"sequential\"\n",
      "_________________________________________________________________\n",
      "Layer (type)                 Output Shape              Param #   \n",
      "=================================================================\n",
      "flatten (Flatten)            (None, 3072)              0         \n",
      "_________________________________________________________________\n",
      "dense (Dense)                (None, 300)               921900    \n",
      "_________________________________________________________________\n",
      "dense_1 (Dense)              (None, 300)               90300     \n",
      "_________________________________________________________________\n",
      "dense_2 (Dense)              (None, 300)               90300     \n",
      "_________________________________________________________________\n",
      "dense_3 (Dense)              (None, 200)               60200     \n",
      "_________________________________________________________________\n",
      "dense_4 (Dense)              (None, 200)               40200     \n",
      "_________________________________________________________________\n",
      "dense_5 (Dense)              (None, 200)               40200     \n",
      "_________________________________________________________________\n",
      "dense_6 (Dense)              (None, 100)               20100     \n",
      "_________________________________________________________________\n",
      "dense_7 (Dense)              (None, 50)                5050      \n",
      "_________________________________________________________________\n",
      "dense_8 (Dense)              (None, 25)                1275      \n",
      "_________________________________________________________________\n",
      "dense_9 (Dense)              (None, 10)                260       \n",
      "=================================================================\n",
      "Total params: 1,269,785\n",
      "Trainable params: 1,269,785\n",
      "Non-trainable params: 0\n",
      "_________________________________________________________________\n"
     ]
    }
   ],
   "source": [
    "model.summary()"
   ]
  },
  {
   "cell_type": "code",
   "execution_count": 10,
   "metadata": {},
   "outputs": [],
   "source": [
    "model.compile(loss=\"sparse_categorical_crossentropy\",\n",
    "             optimizer=\"sgd\",\n",
    "             metrics=['accuracy'])"
   ]
  },
  {
   "cell_type": "code",
   "execution_count": 11,
   "metadata": {},
   "outputs": [
    {
     "name": "stdout",
     "output_type": "stream",
     "text": [
      "Epoch 1/50\n",
      "1250/1250 [==============================] - 7s 6ms/step - loss: 2.0019 - accuracy: 0.2681 - val_loss: 1.8183 - val_accuracy: 0.3428\n",
      "Epoch 2/50\n",
      "1250/1250 [==============================] - 7s 6ms/step - loss: 1.7769 - accuracy: 0.3583 - val_loss: 1.6686 - val_accuracy: 0.3883\n",
      "Epoch 3/50\n",
      "1250/1250 [==============================] - 7s 6ms/step - loss: 1.6788 - accuracy: 0.3936 - val_loss: 1.6393 - val_accuracy: 0.4066\n",
      "Epoch 4/50\n",
      "1250/1250 [==============================] - 7s 5ms/step - loss: 1.6089 - accuracy: 0.4227 - val_loss: 1.5990 - val_accuracy: 0.4182\n",
      "Epoch 5/50\n",
      "1250/1250 [==============================] - 7s 5ms/step - loss: 1.5557 - accuracy: 0.4432 - val_loss: 1.5698 - val_accuracy: 0.4343\n",
      "Epoch 6/50\n",
      "1250/1250 [==============================] - 6s 5ms/step - loss: 1.5110 - accuracy: 0.4569 - val_loss: 1.6299 - val_accuracy: 0.4232\n",
      "Epoch 7/50\n",
      "1250/1250 [==============================] - 7s 5ms/step - loss: 1.4718 - accuracy: 0.4729 - val_loss: 1.4735 - val_accuracy: 0.4701\n",
      "Epoch 8/50\n",
      "1250/1250 [==============================] - 7s 6ms/step - loss: 1.4387 - accuracy: 0.4852 - val_loss: 1.5511 - val_accuracy: 0.4442\n",
      "Epoch 9/50\n",
      "1250/1250 [==============================] - 7s 5ms/step - loss: 1.4087 - accuracy: 0.4959 - val_loss: 1.4314 - val_accuracy: 0.4875\n",
      "Epoch 10/50\n",
      "1250/1250 [==============================] - 7s 5ms/step - loss: 1.3791 - accuracy: 0.5088 - val_loss: 1.4218 - val_accuracy: 0.4915\n",
      "Epoch 11/50\n",
      "1250/1250 [==============================] - 7s 5ms/step - loss: 1.3493 - accuracy: 0.5173 - val_loss: 1.4617 - val_accuracy: 0.4796\n",
      "Epoch 12/50\n",
      "1250/1250 [==============================] - 7s 5ms/step - loss: 1.3251 - accuracy: 0.5285 - val_loss: 1.4068 - val_accuracy: 0.4962\n",
      "Epoch 13/50\n",
      "1250/1250 [==============================] - 7s 6ms/step - loss: 1.2975 - accuracy: 0.5351 - val_loss: 1.4034 - val_accuracy: 0.5022\n",
      "Epoch 14/50\n",
      "1250/1250 [==============================] - 6s 5ms/step - loss: 1.2721 - accuracy: 0.5442 - val_loss: 1.5200 - val_accuracy: 0.4706\n",
      "Epoch 15/50\n",
      "1250/1250 [==============================] - 6s 5ms/step - loss: 1.2516 - accuracy: 0.5527 - val_loss: 1.3809 - val_accuracy: 0.5077\n",
      "Epoch 16/50\n",
      "1250/1250 [==============================] - 7s 6ms/step - loss: 1.2268 - accuracy: 0.5622 - val_loss: 1.3627 - val_accuracy: 0.5201\n",
      "Epoch 17/50\n",
      "1250/1250 [==============================] - 7s 5ms/step - loss: 1.2053 - accuracy: 0.5697 - val_loss: 1.4336 - val_accuracy: 0.5034\n",
      "Epoch 18/50\n",
      "1250/1250 [==============================] - 7s 5ms/step - loss: 1.1812 - accuracy: 0.5766 - val_loss: 1.3745 - val_accuracy: 0.5134\n",
      "Epoch 19/50\n",
      "1250/1250 [==============================] - 7s 5ms/step - loss: 1.1596 - accuracy: 0.5855 - val_loss: 1.4287 - val_accuracy: 0.4987\n",
      "Epoch 20/50\n",
      "1250/1250 [==============================] - 7s 5ms/step - loss: 1.1417 - accuracy: 0.5917 - val_loss: 1.4174 - val_accuracy: 0.5042\n",
      "Epoch 21/50\n",
      "1250/1250 [==============================] - 7s 5ms/step - loss: 1.1192 - accuracy: 0.6011 - val_loss: 1.3620 - val_accuracy: 0.5200\n",
      "Epoch 22/50\n",
      "1250/1250 [==============================] - 7s 5ms/step - loss: 1.0973 - accuracy: 0.6101 - val_loss: 1.4189 - val_accuracy: 0.5109\n",
      "Epoch 23/50\n",
      "1250/1250 [==============================] - 7s 5ms/step - loss: 1.0762 - accuracy: 0.6146 - val_loss: 1.4107 - val_accuracy: 0.5184\n",
      "Epoch 24/50\n",
      "1250/1250 [==============================] - 7s 6ms/step - loss: 1.0608 - accuracy: 0.6234 - val_loss: 1.4143 - val_accuracy: 0.5189\n",
      "Epoch 25/50\n",
      "1250/1250 [==============================] - 7s 5ms/step - loss: 1.0350 - accuracy: 0.6306 - val_loss: 1.4049 - val_accuracy: 0.5203\n",
      "Epoch 26/50\n",
      "1250/1250 [==============================] - 7s 5ms/step - loss: 1.0149 - accuracy: 0.6362 - val_loss: 1.4049 - val_accuracy: 0.5177\n",
      "Epoch 27/50\n",
      "1250/1250 [==============================] - 7s 5ms/step - loss: 0.9942 - accuracy: 0.6453 - val_loss: 1.4905 - val_accuracy: 0.5036\n",
      "Epoch 28/50\n",
      "1250/1250 [==============================] - 7s 5ms/step - loss: 0.9774 - accuracy: 0.6502 - val_loss: 1.4254 - val_accuracy: 0.5197\n",
      "Epoch 29/50\n",
      "1250/1250 [==============================] - 7s 6ms/step - loss: 0.9605 - accuracy: 0.6571 - val_loss: 1.4599 - val_accuracy: 0.5186\n",
      "Epoch 30/50\n",
      "1250/1250 [==============================] - 7s 5ms/step - loss: 0.9367 - accuracy: 0.6667 - val_loss: 1.4210 - val_accuracy: 0.5275\n",
      "Epoch 31/50\n",
      "1250/1250 [==============================] - 7s 5ms/step - loss: 0.9157 - accuracy: 0.6735 - val_loss: 1.4366 - val_accuracy: 0.5240\n",
      "Epoch 32/50\n",
      "1250/1250 [==============================] - 7s 5ms/step - loss: 0.8951 - accuracy: 0.6793 - val_loss: 1.4772 - val_accuracy: 0.5181\n",
      "Epoch 33/50\n",
      "1250/1250 [==============================] - 7s 6ms/step - loss: 0.8750 - accuracy: 0.6848 - val_loss: 1.6396 - val_accuracy: 0.4910\n",
      "Epoch 34/50\n",
      "1250/1250 [==============================] - 7s 5ms/step - loss: 0.8583 - accuracy: 0.6914 - val_loss: 1.6255 - val_accuracy: 0.5072\n",
      "Epoch 35/50\n",
      "1250/1250 [==============================] - 7s 5ms/step - loss: 0.8358 - accuracy: 0.7012 - val_loss: 1.5438 - val_accuracy: 0.5092\n",
      "Epoch 36/50\n",
      "1250/1250 [==============================] - 7s 5ms/step - loss: 0.8180 - accuracy: 0.7062 - val_loss: 1.5290 - val_accuracy: 0.5206\n",
      "Epoch 37/50\n",
      "1250/1250 [==============================] - 7s 5ms/step - loss: 0.8058 - accuracy: 0.7135 - val_loss: 1.5348 - val_accuracy: 0.5287\n",
      "Epoch 38/50\n",
      "1250/1250 [==============================] - 7s 5ms/step - loss: 0.7831 - accuracy: 0.7223 - val_loss: 1.5451 - val_accuracy: 0.5289\n",
      "Epoch 39/50\n",
      "1250/1250 [==============================] - 7s 6ms/step - loss: 0.7669 - accuracy: 0.7261 - val_loss: 1.5472 - val_accuracy: 0.5277\n",
      "Epoch 40/50\n",
      "1250/1250 [==============================] - 7s 5ms/step - loss: 0.7437 - accuracy: 0.7325 - val_loss: 1.5940 - val_accuracy: 0.5179\n",
      "Epoch 41/50\n",
      "1250/1250 [==============================] - 7s 5ms/step - loss: 0.7255 - accuracy: 0.7397 - val_loss: 1.6512 - val_accuracy: 0.5150\n",
      "Epoch 42/50\n",
      "1250/1250 [==============================] - 7s 6ms/step - loss: 0.7071 - accuracy: 0.7473 - val_loss: 1.7194 - val_accuracy: 0.5042\n",
      "Epoch 43/50\n",
      "1250/1250 [==============================] - 7s 5ms/step - loss: 0.6889 - accuracy: 0.7541 - val_loss: 1.6576 - val_accuracy: 0.5164\n",
      "Epoch 44/50\n",
      "1250/1250 [==============================] - 7s 5ms/step - loss: 0.6715 - accuracy: 0.7610 - val_loss: 1.6622 - val_accuracy: 0.5146\n",
      "Epoch 45/50\n",
      "1250/1250 [==============================] - 7s 5ms/step - loss: 0.6507 - accuracy: 0.7673 - val_loss: 1.6462 - val_accuracy: 0.5337\n",
      "Epoch 46/50\n",
      "1250/1250 [==============================] - 7s 5ms/step - loss: 0.6378 - accuracy: 0.7717 - val_loss: 1.7697 - val_accuracy: 0.4978\n",
      "Epoch 47/50\n",
      "1250/1250 [==============================] - 7s 5ms/step - loss: 0.6160 - accuracy: 0.7792 - val_loss: 1.7211 - val_accuracy: 0.5147\n",
      "Epoch 48/50\n",
      "1250/1250 [==============================] - 7s 5ms/step - loss: 0.6005 - accuracy: 0.7848 - val_loss: 1.7659 - val_accuracy: 0.5160\n",
      "Epoch 49/50\n",
      "1250/1250 [==============================] - 7s 5ms/step - loss: 0.5890 - accuracy: 0.7898 - val_loss: 1.7602 - val_accuracy: 0.5203\n",
      "Epoch 50/50\n",
      "1250/1250 [==============================] - 7s 5ms/step - loss: 0.5709 - accuracy: 0.7976 - val_loss: 1.8271 - val_accuracy: 0.5187\n"
     ]
    },
    {
     "data": {
      "text/plain": [
       "<tensorflow.python.keras.callbacks.History at 0x14aa1c250>"
      ]
     },
     "execution_count": 11,
     "metadata": {},
     "output_type": "execute_result"
    }
   ],
   "source": [
    "model.fit(x_train, y_train, epochs=50, validation_data=(x_val, y_val))"
   ]
  },
  {
   "cell_type": "code",
   "execution_count": 12,
   "metadata": {},
   "outputs": [
    {
     "name": "stdout",
     "output_type": "stream",
     "text": [
      "313/313 [==============================] - 1s 2ms/step - loss: 1.8861 - accuracy: 0.5116\n"
     ]
    },
    {
     "data": {
      "text/plain": [
       "[1.886144757270813, 0.5116000175476074]"
      ]
     },
     "execution_count": 12,
     "metadata": {},
     "output_type": "execute_result"
    }
   ],
   "source": [
    "model.evaluate(x_test, y_test)"
   ]
  },
  {
   "cell_type": "code",
   "execution_count": 13,
   "metadata": {},
   "outputs": [],
   "source": [
    "model.fit?"
   ]
  },
  {
   "cell_type": "code",
   "execution_count": null,
   "metadata": {},
   "outputs": [],
   "source": []
  }
 ],
 "metadata": {
  "kernelspec": {
   "display_name": "Python 3",
   "language": "python",
   "name": "python3"
  },
  "language_info": {
   "codemirror_mode": {
    "name": "ipython",
    "version": 3
   },
   "file_extension": ".py",
   "mimetype": "text/x-python",
   "name": "python",
   "nbconvert_exporter": "python",
   "pygments_lexer": "ipython3",
   "version": "3.8.3"
  }
 },
 "nbformat": 4,
 "nbformat_minor": 4
}
